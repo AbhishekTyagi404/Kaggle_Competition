{
 "cells": [
  {
   "cell_type": "code",
   "execution_count": 1,
   "metadata": {
    "_cell_guid": "b1076dfc-b9ad-4769-8c92-a6c4dae69d19",
    "_uuid": "8f2839f25d086af736a60e9eeb907d3b93b6e0e5",
    "execution": {
     "iopub.execute_input": "2020-09-22T07:29:57.922718Z",
     "iopub.status.busy": "2020-09-22T07:29:57.921722Z",
     "iopub.status.idle": "2020-09-22T07:29:57.926081Z",
     "shell.execute_reply": "2020-09-22T07:29:57.926754Z"
    },
    "papermill": {
     "duration": 0.031327,
     "end_time": "2020-09-22T07:29:57.926941",
     "exception": false,
     "start_time": "2020-09-22T07:29:57.895614",
     "status": "completed"
    },
    "tags": []
   },
   "outputs": [
    {
     "name": "stdout",
     "output_type": "stream",
     "text": [
      "/kaggle/input/digit-recognizer/train.csv\n",
      "/kaggle/input/digit-recognizer/test.csv\n",
      "/kaggle/input/digit-recognizer/sample_submission.csv\n"
     ]
    }
   ],
   "source": [
    "# This Python 3 environment comes with many helpful analytics libraries installed\n",
    "# It is defined by the kaggle/python Docker image: https://github.com/kaggle/docker-python\n",
    "# For example, here's several helpful packages to load\n",
    "\n",
    "import numpy as np # linear algebra\n",
    "import pandas as pd # data processing, CSV file I/O (e.g. pd.read_csv)\n",
    "\n",
    "# Input data files are available in the read-only \"../input/\" directory\n",
    "# For example, running this (by clicking run or pressing Shift+Enter) will list all files under the input directory\n",
    "\n",
    "import os\n",
    "for dirname, _, filenames in os.walk('/kaggle/input'):\n",
    "    for filename in filenames:\n",
    "        print(os.path.join(dirname, filename))\n",
    "\n",
    "# You can write up to 5GB to the current directory (/kaggle/working/) that gets preserved as output when you create a version using \"Save & Run All\" \n",
    "# You can also write temporary files to /kaggle/temp/, but they won't be saved outside of the current session"
   ]
  },
  {
   "cell_type": "code",
   "execution_count": 2,
   "metadata": {
    "_cell_guid": "79c7e3d0-c299-4dcb-8224-4455121ee9b0",
    "_uuid": "d629ff2d2480ee46fbb7e2d37f6b5fab8052498a",
    "execution": {
     "iopub.execute_input": "2020-09-22T07:29:57.979656Z",
     "iopub.status.busy": "2020-09-22T07:29:57.978860Z",
     "iopub.status.idle": "2020-09-22T07:30:04.951704Z",
     "shell.execute_reply": "2020-09-22T07:30:04.951021Z"
    },
    "papermill": {
     "duration": 7.005883,
     "end_time": "2020-09-22T07:30:04.951873",
     "exception": false,
     "start_time": "2020-09-22T07:29:57.945990",
     "status": "completed"
    },
    "tags": []
   },
   "outputs": [],
   "source": [
    "\n",
    "import pandas as pd\n",
    "import numpy as np\n",
    "import matplotlib.pyplot as plt\n",
    "import matplotlib.image as mpimg\n",
    "import seaborn as sns\n",
    "%matplotlib inline\n",
    "\n",
    "np.random.seed(2)\n",
    "\n",
    "from sklearn.model_selection import train_test_split\n",
    "from sklearn.metrics import confusion_matrix\n",
    "import itertools\n",
    "\n",
    "from keras.utils.np_utils import to_categorical\n",
    "from keras.models import Sequential\n",
    "from keras.layers import Dense, Dropout, Flatten, Conv2D, MaxPool2D, BatchNormalization\n",
    "from keras.optimizers import RMSprop\n",
    "from keras.preprocessing.image import ImageDataGenerator\n",
    "from keras.callbacks import ReduceLROnPlateau\n",
    "\n",
    "# http://seaborn.pydata.org/generated/seaborn.set.html\n",
    "sns.set(style='white', context='notebook', palette='deep')"
   ]
  },
  {
   "cell_type": "code",
   "execution_count": 3,
   "metadata": {
    "execution": {
     "iopub.execute_input": "2020-09-22T07:30:05.000409Z",
     "iopub.status.busy": "2020-09-22T07:30:04.999599Z",
     "iopub.status.idle": "2020-09-22T07:30:10.687591Z",
     "shell.execute_reply": "2020-09-22T07:30:10.686846Z"
    },
    "papermill": {
     "duration": 5.717219,
     "end_time": "2020-09-22T07:30:10.687737",
     "exception": false,
     "start_time": "2020-09-22T07:30:04.970518",
     "status": "completed"
    },
    "tags": []
   },
   "outputs": [],
   "source": [
    "train = pd.read_csv(\"../input/digit-recognizer/train.csv\")\n",
    "test = pd.read_csv(\"../input/digit-recognizer/test.csv\")"
   ]
  },
  {
   "cell_type": "code",
   "execution_count": 4,
   "metadata": {
    "execution": {
     "iopub.execute_input": "2020-09-22T07:30:10.735879Z",
     "iopub.status.busy": "2020-09-22T07:30:10.735059Z",
     "iopub.status.idle": "2020-09-22T07:30:11.167275Z",
     "shell.execute_reply": "2020-09-22T07:30:11.168367Z"
    },
    "papermill": {
     "duration": 0.461546,
     "end_time": "2020-09-22T07:30:11.168543",
     "exception": false,
     "start_time": "2020-09-22T07:30:10.706997",
     "status": "completed"
    },
    "tags": []
   },
   "outputs": [
    {
     "name": "stdout",
     "output_type": "stream",
     "text": [
      "(42000,)\n",
      "(42000, 784)\n"
     ]
    },
    {
     "data": {
      "text/plain": [
       "1    4684\n",
       "7    4401\n",
       "3    4351\n",
       "9    4188\n",
       "2    4177\n",
       "6    4137\n",
       "0    4132\n",
       "4    4072\n",
       "8    4063\n",
       "5    3795\n",
       "Name: label, dtype: int64"
      ]
     },
     "execution_count": 4,
     "metadata": {},
     "output_type": "execute_result"
    },
    {
     "data": {
      "image/png": "[encoded data removed]",
      "text/plain": [
       "<Figure size 432x288 with 1 Axes>"
      ]
     },
     "metadata": {},
     "output_type": "display_data"
    }
   ],
   "source": [
    "# 'label'\n",
    "Y_train = train[\"label\"]\n",
    "print(Y_train.shape)\n",
    "\n",
    "\n",
    "X_train = train.drop(labels = [\"label\"],axis = 1) \n",
    "print(X_train.shape)\n",
    "\n",
    "\n",
    "del train\n",
    "\n",
    "\n",
    "# https://seaborn.pydata.org/generated/seaborn.countplot.html?highlight=countplot\n",
    "g = sns.countplot(Y_train)\n",
    "\n",
    "\n",
    "# https://pandas.pydata.org/pandas-docs/stable/reference/api/pandas.Series.value_counts.html\n",
    "Y_train.value_counts()"
   ]
  },
  {
   "cell_type": "code",
   "execution_count": 5,
   "metadata": {
    "execution": {
     "iopub.execute_input": "2020-09-22T07:30:11.216911Z",
     "iopub.status.busy": "2020-09-22T07:30:11.216134Z",
     "iopub.status.idle": "2020-09-22T07:30:11.255299Z",
     "shell.execute_reply": "2020-09-22T07:30:11.254310Z"
    },
    "papermill": {
     "duration": 0.066277,
     "end_time": "2020-09-22T07:30:11.255486",
     "exception": false,
     "start_time": "2020-09-22T07:30:11.189209",
     "status": "completed"
    },
    "tags": []
   },
   "outputs": [
    {
     "data": {
      "text/plain": [
       "count       784\n",
       "unique        1\n",
       "top       False\n",
       "freq        784\n",
       "dtype: object"
      ]
     },
     "execution_count": 5,
     "metadata": {},
     "output_type": "execute_result"
    }
   ],
   "source": [
    "X_train.isnull().any().describe()"
   ]
  },
  {
   "cell_type": "code",
   "execution_count": 6,
   "metadata": {
    "execution": {
     "iopub.execute_input": "2020-09-22T07:30:11.304587Z",
     "iopub.status.busy": "2020-09-22T07:30:11.303776Z",
     "iopub.status.idle": "2020-09-22T07:30:11.319945Z",
     "shell.execute_reply": "2020-09-22T07:30:11.320496Z"
    },
    "papermill": {
     "duration": 0.043168,
     "end_time": "2020-09-22T07:30:11.320660",
     "exception": false,
     "start_time": "2020-09-22T07:30:11.277492",
     "status": "completed"
    },
    "tags": []
   },
   "outputs": [
    {
     "data": {
      "text/plain": [
       "count       784\n",
       "unique        1\n",
       "top       False\n",
       "freq        784\n",
       "dtype: object"
      ]
     },
     "execution_count": 6,
     "metadata": {},
     "output_type": "execute_result"
    }
   ],
   "source": [
    "test.isnull().any().describe()"
   ]
  },
  {
   "cell_type": "code",
   "execution_count": 7,
   "metadata": {
    "execution": {
     "iopub.execute_input": "2020-09-22T07:30:11.381930Z",
     "iopub.status.busy": "2020-09-22T07:30:11.380721Z",
     "iopub.status.idle": "2020-09-22T07:30:11.491048Z",
     "shell.execute_reply": "2020-09-22T07:30:11.490438Z"
    },
    "papermill": {
     "duration": 0.148528,
     "end_time": "2020-09-22T07:30:11.491190",
     "exception": false,
     "start_time": "2020-09-22T07:30:11.342662",
     "status": "completed"
    },
    "tags": []
   },
   "outputs": [],
   "source": [
    "X_train = X_train / 255.0\n",
    "test = test / 255.0"
   ]
  },
  {
   "cell_type": "code",
   "execution_count": 8,
   "metadata": {
    "execution": {
     "iopub.execute_input": "2020-09-22T07:30:11.541804Z",
     "iopub.status.busy": "2020-09-22T07:30:11.541035Z",
     "iopub.status.idle": "2020-09-22T07:30:11.544449Z",
     "shell.execute_reply": "2020-09-22T07:30:11.543716Z"
    },
    "papermill": {
     "duration": 0.031165,
     "end_time": "2020-09-22T07:30:11.544579",
     "exception": false,
     "start_time": "2020-09-22T07:30:11.513414",
     "status": "completed"
    },
    "tags": []
   },
   "outputs": [],
   "source": [
    "#(height = 28px, width = 28px , canal = 1)\n",
    "X_train = X_train.values.reshape(-1,28,28,1)\n",
    "test = test.values.reshape(-1,28,28,1)"
   ]
  },
  {
   "cell_type": "code",
   "execution_count": 9,
   "metadata": {
    "execution": {
     "iopub.execute_input": "2020-09-22T07:30:11.595094Z",
     "iopub.status.busy": "2020-09-22T07:30:11.594313Z",
     "iopub.status.idle": "2020-09-22T07:30:11.599560Z",
     "shell.execute_reply": "2020-09-22T07:30:11.598901Z"
    },
    "papermill": {
     "duration": 0.032459,
     "end_time": "2020-09-22T07:30:11.599693",
     "exception": false,
     "start_time": "2020-09-22T07:30:11.567234",
     "status": "completed"
    },
    "tags": []
   },
   "outputs": [],
   "source": [
    "#2 -> [0,0,1,0,0,0,0,0,0,0])\n",
    "Y_train = to_categorical(Y_train, num_classes = 10)"
   ]
  },
  {
   "cell_type": "code",
   "execution_count": 10,
   "metadata": {
    "execution": {
     "iopub.execute_input": "2020-09-22T07:30:11.651540Z",
     "iopub.status.busy": "2020-09-22T07:30:11.650236Z",
     "iopub.status.idle": "2020-09-22T07:30:12.055388Z",
     "shell.execute_reply": "2020-09-22T07:30:12.054734Z"
    },
    "papermill": {
     "duration": 0.433311,
     "end_time": "2020-09-22T07:30:12.055533",
     "exception": false,
     "start_time": "2020-09-22T07:30:11.622222",
     "status": "completed"
    },
    "tags": []
   },
   "outputs": [],
   "source": [
    "random_seed = 2\n",
    "\n",
    "X_train, X_val, Y_train, Y_val = train_test_split(X_train, Y_train, test_size = 0.1, random_state=random_seed)"
   ]
  },
  {
   "cell_type": "code",
   "execution_count": 11,
   "metadata": {
    "execution": {
     "iopub.execute_input": "2020-09-22T07:30:12.112516Z",
     "iopub.status.busy": "2020-09-22T07:30:12.111665Z",
     "iopub.status.idle": "2020-09-22T07:30:12.390299Z",
     "shell.execute_reply": "2020-09-22T07:30:12.389653Z"
    },
    "papermill": {
     "duration": 0.31247,
     "end_time": "2020-09-22T07:30:12.390434",
     "exception": false,
     "start_time": "2020-09-22T07:30:12.077964",
     "status": "completed"
    },
    "tags": []
   },
   "outputs": [
    {
     "data": {
      "image/png": "[encoded data removed]",
      "text/plain": [
       "<Figure size 432x288 with 1 Axes>"
      ]
     },
     "metadata": {},
     "output_type": "display_data"
    }
   ],
   "source": [
    "g = plt.imshow(X_train[0][:,:,0])"
   ]
  },
  {
   "cell_type": "code",
   "execution_count": 12,
   "metadata": {
    "execution": {
     "iopub.execute_input": "2020-09-22T07:30:12.452287Z",
     "iopub.status.busy": "2020-09-22T07:30:12.451414Z",
     "iopub.status.idle": "2020-09-22T07:30:12.758541Z",
     "shell.execute_reply": "2020-09-22T07:30:12.757520Z"
    },
    "papermill": {
     "duration": 0.344981,
     "end_time": "2020-09-22T07:30:12.758709",
     "exception": false,
     "start_time": "2020-09-22T07:30:12.413728",
     "status": "completed"
    },
    "tags": []
   },
   "outputs": [
    {
     "name": "stdout",
     "output_type": "stream",
     "text": [
      "Model: \"sequential\"\n",
      "_________________________________________________________________\n",
      "Layer (type)                 Output Shape              Param #   \n",
      "=================================================================\n",
      "conv2d (Conv2D)              (None, 28, 28, 32)        832       \n",
      "_________________________________________________________________\n",
      "batch_normalization (BatchNo (None, 28, 28, 32)        128       \n",
      "_________________________________________________________________\n",
      "conv2d_1 (Conv2D)            (None, 28, 28, 32)        25632     \n",
      "_________________________________________________________________\n",
      "batch_normalization_1 (Batch (None, 28, 28, 32)        128       \n",
      "_________________________________________________________________\n",
      "max_pooling2d (MaxPooling2D) (None, 14, 14, 32)        0         \n",
      "_________________________________________________________________\n",
      "conv2d_2 (Conv2D)            (None, 14, 14, 64)        18496     \n",
      "_________________________________________________________________\n",
      "batch_normalization_2 (Batch (None, 14, 14, 64)        256       \n",
      "_________________________________________________________________\n",
      "conv2d_3 (Conv2D)            (None, 14, 14, 64)        36928     \n",
      "_________________________________________________________________\n",
      "batch_normalization_3 (Batch (None, 14, 14, 64)        256       \n",
      "_________________________________________________________________\n",
      "max_pooling2d_1 (MaxPooling2 (None, 7, 7, 64)          0         \n",
      "_________________________________________________________________\n",
      "flatten (Flatten)            (None, 3136)              0         \n",
      "_________________________________________________________________\n",
      "dense (Dense)                (None, 256)               803072    \n",
      "_________________________________________________________________\n",
      "dropout (Dropout)            (None, 256)               0         \n",
      "_________________________________________________________________\n",
      "dense_1 (Dense)              (None, 10)                2570      \n",
      "=================================================================\n",
      "Total params: 888,298\n",
      "Trainable params: 887,914\n",
      "Non-trainable params: 384\n",
      "_________________________________________________________________\n"
     ]
    }
   ],
   "source": [
    "model = Sequential()\n",
    "\n",
    "model.add(Conv2D(filters = 32, kernel_size = (5,5),padding = 'Same', \n",
    "                 activation ='relu', input_shape = (28,28,1)))\n",
    "model.add(BatchNormalization())\n",
    "model.add(Conv2D(filters = 32, kernel_size = (5,5),padding = 'Same', \n",
    "                 activation ='relu'))\n",
    "model.add(BatchNormalization())\n",
    "model.add(MaxPool2D(pool_size=(2,2)))\n",
    "# model.add(Dropout(0.25))\n",
    "\n",
    "\n",
    "model.add(Conv2D(filters = 64, kernel_size = (3,3),padding = 'Same', \n",
    "                 activation ='relu'))\n",
    "model.add(BatchNormalization())\n",
    "model.add(Conv2D(filters = 64, kernel_size = (3,3),padding = 'Same', \n",
    "                 activation ='relu'))\n",
    "model.add(BatchNormalization())\n",
    "model.add(MaxPool2D(pool_size=(2,2), strides=(2,2)))\n",
    "# model.add(Dropout(0.25))\n",
    "\n",
    "\n",
    "model.add(Flatten())\n",
    "model.add(Dense(256, activation = \"relu\"))\n",
    "model.add(Dropout(0.5))\n",
    "model.add(Dense(10, activation = \"softmax\"))\n",
    "\n",
    "\n",
    "model.summary()"
   ]
  },
  {
   "cell_type": "code",
   "execution_count": 13,
   "metadata": {
    "execution": {
     "iopub.execute_input": "2020-09-22T07:30:12.823909Z",
     "iopub.status.busy": "2020-09-22T07:30:12.822753Z",
     "iopub.status.idle": "2020-09-22T07:30:12.830541Z",
     "shell.execute_reply": "2020-09-22T07:30:12.829826Z"
    },
    "papermill": {
     "duration": 0.046779,
     "end_time": "2020-09-22T07:30:12.830701",
     "exception": false,
     "start_time": "2020-09-22T07:30:12.783922",
     "status": "completed"
    },
    "tags": []
   },
   "outputs": [],
   "source": [
    "\n",
    "model.compile(optimizer=\"adam\", loss=\"categorical_crossentropy\", metrics=[\"accuracy\"])\n",
    "\n",
    "\n",
    "# model.compile(optimizer=\"sgd\", loss=\"categorical_crossentropy\", metrics=[\"accuracy\"])\n",
    "# optimizer = RMSprop(lr=0.001, rho=0.9, epsilon=1e-08, decay=0.0)\n",
    "\n",
    "# model.compile(optimizer = optimizer , loss = \"categorical_crossentropy\", metrics=[\"accuracy\"])"
   ]
  },
  {
   "cell_type": "code",
   "execution_count": 14,
   "metadata": {
    "execution": {
     "iopub.execute_input": "2020-09-22T07:30:12.886876Z",
     "iopub.status.busy": "2020-09-22T07:30:12.886104Z",
     "iopub.status.idle": "2020-09-22T07:30:12.888902Z",
     "shell.execute_reply": "2020-09-22T07:30:12.889452Z"
    },
    "papermill": {
     "duration": 0.033259,
     "end_time": "2020-09-22T07:30:12.889635",
     "exception": false,
     "start_time": "2020-09-22T07:30:12.856376",
     "status": "completed"
    },
    "tags": []
   },
   "outputs": [],
   "source": [
    "learning_rate_reduction = ReduceLROnPlateau(monitor='val_acc', \n",
    "                                            patience=3, \n",
    "                                            verbose=1, \n",
    "                                            factor=0.5, \n",
    "                                            min_lr=0.00001)"
   ]
  },
  {
   "cell_type": "code",
   "execution_count": 15,
   "metadata": {
    "execution": {
     "iopub.execute_input": "2020-09-22T07:30:12.943795Z",
     "iopub.status.busy": "2020-09-22T07:30:12.942979Z",
     "iopub.status.idle": "2020-09-22T07:30:12.946443Z",
     "shell.execute_reply": "2020-09-22T07:30:12.945679Z"
    },
    "papermill": {
     "duration": 0.032565,
     "end_time": "2020-09-22T07:30:12.946572",
     "exception": false,
     "start_time": "2020-09-22T07:30:12.914007",
     "status": "completed"
    },
    "tags": []
   },
   "outputs": [],
   "source": [
    "epochs = 30\n",
    "# epochs = 30 \n",
    "batch_size = 86"
   ]
  },
  {
   "cell_type": "code",
   "execution_count": 16,
   "metadata": {
    "execution": {
     "iopub.execute_input": "2020-09-22T07:30:13.004060Z",
     "iopub.status.busy": "2020-09-22T07:30:13.003226Z",
     "iopub.status.idle": "2020-09-22T07:30:13.099079Z",
     "shell.execute_reply": "2020-09-22T07:30:13.098273Z"
    },
    "papermill": {
     "duration": 0.127662,
     "end_time": "2020-09-22T07:30:13.099212",
     "exception": false,
     "start_time": "2020-09-22T07:30:12.971550",
     "status": "completed"
    },
    "tags": []
   },
   "outputs": [],
   "source": [
    "datagen = ImageDataGenerator(\n",
    "        featurewise_center=False,  \t\t\t\t\n",
    "        samplewise_center=False,  \t\t\t\t\n",
    "        featurewise_std_normalization=False,\n",
    "        samplewise_std_normalization=False,  \t\n",
    "        zca_whitening=False,  \t\t\t\t\t\n",
    "        rotation_range=10,  \t\t\t\t\t\n",
    "        zoom_range = 0.1, \t\t\t\t\t\t\n",
    "        width_shift_range=0.1,  \t\t\t\t\n",
    "        height_shift_range=0.1,  \t\t\t\t\n",
    "        horizontal_flip=False,  \t\t\t\t\n",
    "        vertical_flip=False)  \t\t\t\t\n",
    "\n",
    "\n",
    "datagen.fit(X_train)"
   ]
  },
  {
   "cell_type": "code",
   "execution_count": 17,
   "metadata": {
    "execution": {
     "iopub.execute_input": "2020-09-22T07:30:13.157177Z",
     "iopub.status.busy": "2020-09-22T07:30:13.156369Z",
     "iopub.status.idle": "2020-09-22T08:48:21.538373Z",
     "shell.execute_reply": "2020-09-22T08:48:21.538998Z"
    },
    "papermill": {
     "duration": 4688.414502,
     "end_time": "2020-09-22T08:48:21.539186",
     "exception": false,
     "start_time": "2020-09-22T07:30:13.124684",
     "status": "completed"
    },
    "tags": []
   },
   "outputs": [
    {
     "name": "stdout",
     "output_type": "stream",
     "text": [
      "Epoch 1/30\n",
      "439/439 - 154s - loss: 0.3659 - accuracy: 0.8911 - val_loss: 0.1480 - val_accuracy: 0.9531\n",
      "Epoch 2/30\n",
      "439/439 - 153s - loss: 0.1397 - accuracy: 0.9600 - val_loss: 0.0572 - val_accuracy: 0.9840\n",
      "Epoch 3/30\n",
      "439/439 - 158s - loss: 0.1109 - accuracy: 0.9677 - val_loss: 0.0422 - val_accuracy: 0.9874\n",
      "Epoch 4/30\n",
      "439/439 - 155s - loss: 0.0921 - accuracy: 0.9737 - val_loss: 0.1050 - val_accuracy: 0.9721\n",
      "Epoch 5/30\n",
      "439/439 - 155s - loss: 0.0815 - accuracy: 0.9780 - val_loss: 0.0319 - val_accuracy: 0.9895\n",
      "Epoch 6/30\n",
      "439/439 - 155s - loss: 0.0761 - accuracy: 0.9789 - val_loss: 0.0299 - val_accuracy: 0.9924\n",
      "Epoch 7/30\n",
      "439/439 - 157s - loss: 0.0778 - accuracy: 0.9785 - val_loss: 0.0467 - val_accuracy: 0.9876\n",
      "Epoch 8/30\n",
      "439/439 - 155s - loss: 0.0631 - accuracy: 0.9816 - val_loss: 0.0396 - val_accuracy: 0.9900\n",
      "Epoch 9/30\n",
      "439/439 - 155s - loss: 0.0593 - accuracy: 0.9840 - val_loss: 0.0277 - val_accuracy: 0.9926\n",
      "Epoch 10/30\n",
      "439/439 - 155s - loss: 0.0588 - accuracy: 0.9836 - val_loss: 0.0288 - val_accuracy: 0.9912\n",
      "Epoch 11/30\n",
      "439/439 - 157s - loss: 0.0537 - accuracy: 0.9850 - val_loss: 0.0266 - val_accuracy: 0.9926\n",
      "Epoch 12/30\n",
      "439/439 - 153s - loss: 0.0488 - accuracy: 0.9865 - val_loss: 0.0179 - val_accuracy: 0.9938\n",
      "Epoch 13/30\n",
      "439/439 - 154s - loss: 0.0520 - accuracy: 0.9855 - val_loss: 0.0367 - val_accuracy: 0.9919\n",
      "Epoch 14/30\n",
      "439/439 - 154s - loss: 0.0467 - accuracy: 0.9870 - val_loss: 0.0289 - val_accuracy: 0.9926\n",
      "Epoch 15/30\n",
      "439/439 - 158s - loss: 0.0390 - accuracy: 0.9883 - val_loss: 0.0279 - val_accuracy: 0.9921\n",
      "Epoch 16/30\n",
      "439/439 - 157s - loss: 0.0391 - accuracy: 0.9895 - val_loss: 0.0261 - val_accuracy: 0.9929\n",
      "Epoch 17/30\n",
      "439/439 - 156s - loss: 0.0426 - accuracy: 0.9882 - val_loss: 0.0253 - val_accuracy: 0.9933\n",
      "Epoch 18/30\n",
      "439/439 - 156s - loss: 0.0392 - accuracy: 0.9884 - val_loss: 0.0271 - val_accuracy: 0.9933\n",
      "Epoch 19/30\n",
      "439/439 - 158s - loss: 0.0379 - accuracy: 0.9892 - val_loss: 0.0353 - val_accuracy: 0.9917\n",
      "Epoch 20/30\n",
      "439/439 - 156s - loss: 0.0372 - accuracy: 0.9898 - val_loss: 0.0300 - val_accuracy: 0.9926\n",
      "Epoch 21/30\n",
      "439/439 - 156s - loss: 0.0330 - accuracy: 0.9909 - val_loss: 0.0326 - val_accuracy: 0.9929\n",
      "Epoch 22/30\n",
      "439/439 - 157s - loss: 0.0349 - accuracy: 0.9902 - val_loss: 0.0262 - val_accuracy: 0.9929\n",
      "Epoch 23/30\n",
      "439/439 - 156s - loss: 0.0319 - accuracy: 0.9907 - val_loss: 0.0180 - val_accuracy: 0.9950\n",
      "Epoch 24/30\n",
      "439/439 - 155s - loss: 0.0286 - accuracy: 0.9919 - val_loss: 0.0266 - val_accuracy: 0.9914\n",
      "Epoch 25/30\n",
      "439/439 - 154s - loss: 0.0344 - accuracy: 0.9904 - val_loss: 0.0213 - val_accuracy: 0.9948\n",
      "Epoch 26/30\n",
      "439/439 - 161s - loss: 0.0284 - accuracy: 0.9919 - val_loss: 0.0212 - val_accuracy: 0.9945\n",
      "Epoch 27/30\n",
      "439/439 - 154s - loss: 0.0258 - accuracy: 0.9927 - val_loss: 0.0314 - val_accuracy: 0.9929\n",
      "Epoch 28/30\n",
      "439/439 - 156s - loss: 0.0319 - accuracy: 0.9913 - val_loss: 0.0302 - val_accuracy: 0.9929\n",
      "Epoch 29/30\n",
      "439/439 - 155s - loss: 0.0282 - accuracy: 0.9919 - val_loss: 0.0284 - val_accuracy: 0.9940\n",
      "Epoch 30/30\n",
      "439/439 - 159s - loss: 0.0235 - accuracy: 0.9927 - val_loss: 0.0243 - val_accuracy: 0.9938\n"
     ]
    }
   ],
   "source": [
    "history = model.fit_generator(datagen.flow(X_train,Y_train, batch_size=batch_size),\n",
    "                              epochs = epochs, validation_data = (X_val,Y_val),\n",
    "                              verbose = 2, steps_per_epoch=X_train.shape[0] // batch_size,\n",
    "                              callbacks=[learning_rate_reduction])"
   ]
  },
  {
   "cell_type": "code",
   "execution_count": 18,
   "metadata": {
    "execution": {
     "iopub.execute_input": "2020-09-22T08:48:21.657549Z",
     "iopub.status.busy": "2020-09-22T08:48:21.656416Z",
     "iopub.status.idle": "2020-09-22T08:48:22.238465Z",
     "shell.execute_reply": "2020-09-22T08:48:22.237668Z"
    },
    "papermill": {
     "duration": 0.650008,
     "end_time": "2020-09-22T08:48:22.238594",
     "exception": false,
     "start_time": "2020-09-22T08:48:21.588586",
     "status": "completed"
    },
    "tags": []
   },
   "outputs": [
    {
     "data": {
      "image/png": "[encoded data removed]",
      "text/plain": [
       "<Figure size 432x288 with 2 Axes>"
      ]
     },
     "metadata": {},
     "output_type": "display_data"
    }
   ],
   "source": [
    "fig, ax = plt.subplots(2,1)\n",
    "ax[0].plot(history.history['loss'], color='b', label=\"Training loss\")\n",
    "ax[0].plot(history.history['val_loss'], color='r', label=\"validation loss\",axes =ax[0])\n",
    "legend = ax[0].legend(loc='best', shadow=True)\n",
    "\n",
    "ax[1].plot(history.history['accuracy'], color='b', label=\"Training accuracy\")\n",
    "ax[1].plot(history.history['val_accuracy'], color='r',label=\"Validation accuracy\")\n",
    "legend = ax[1].legend(loc='best', shadow=True)"
   ]
  },
  {
   "cell_type": "code",
   "execution_count": 19,
   "metadata": {
    "execution": {
     "iopub.execute_input": "2020-09-22T08:48:22.357394Z",
     "iopub.status.busy": "2020-09-22T08:48:22.356037Z",
     "iopub.status.idle": "2020-09-22T08:48:26.700513Z",
     "shell.execute_reply": "2020-09-22T08:48:26.699676Z"
    },
    "papermill": {
     "duration": 4.412021,
     "end_time": "2020-09-22T08:48:26.700647",
     "exception": false,
     "start_time": "2020-09-22T08:48:22.288626",
     "status": "completed"
    },
    "tags": []
   },
   "outputs": [
    {
     "data": {
      "image/png": "[encoded data removed]",
      "text/plain": [
       "<Figure size 432x288 with 2 Axes>"
      ]
     },
     "metadata": {},
     "output_type": "display_data"
    }
   ],
   "source": [
    "def plot_confusion_matrix(cm, classes,\n",
    "                          normalize=False,\n",
    "                          title='Confusion matrix',\n",
    "                          cmap=plt.cm.Blues):\n",
    "    \"\"\"\n",
    "    \n",
    "    \"\"\"\n",
    "    plt.imshow(cm, interpolation='nearest', cmap=cmap)\n",
    "    plt.title(title)\n",
    "    plt.colorbar()\n",
    "    tick_marks = np.arange(len(classes))\n",
    "    plt.xticks(tick_marks, classes, rotation=45)\n",
    "    plt.yticks(tick_marks, classes)\n",
    "\n",
    "    if normalize:\n",
    "        cm = cm.astype('float') / cm.sum(axis=1)[:, np.newaxis]\n",
    "\n",
    "    thresh = cm.max() / 2.\n",
    "    for i, j in itertools.product(range(cm.shape[0]), range(cm.shape[1])):\n",
    "        plt.text(j, i, cm[i, j],\n",
    "                 horizontalalignment=\"center\",\n",
    "                 color=\"white\" if cm[i, j] > thresh else \"black\")\n",
    "\n",
    "    plt.tight_layout()\n",
    "    plt.ylabel('True label')\n",
    "    plt.xlabel('Predicted label')\n",
    "\n",
    "\n",
    "Y_pred = model.predict(X_val)\n",
    "\n",
    "Y_pred_classes = np.argmax(Y_pred,axis = 1) \n",
    "\n",
    "Y_true = np.argmax(Y_val,axis = 1) \n",
    "\n",
    "confusion_mtx = confusion_matrix(Y_true, Y_pred_classes) \n",
    "\n",
    "plot_confusion_matrix(confusion_mtx, classes = range(10))"
   ]
  },
  {
   "cell_type": "code",
   "execution_count": 20,
   "metadata": {
    "execution": {
     "iopub.execute_input": "2020-09-22T08:48:26.819924Z",
     "iopub.status.busy": "2020-09-22T08:48:26.814187Z",
     "iopub.status.idle": "2020-09-22T08:48:28.277533Z",
     "shell.execute_reply": "2020-09-22T08:48:28.276882Z"
    },
    "papermill": {
     "duration": 1.524884,
     "end_time": "2020-09-22T08:48:28.277681",
     "exception": false,
     "start_time": "2020-09-22T08:48:26.752797",
     "status": "completed"
    },
    "tags": []
   },
   "outputs": [
    {
     "data": {
      "image/png": "[encoded data removed]",
      "text/plain": [
       "<Figure size 432x288 with 6 Axes>"
      ]
     },
     "metadata": {},
     "output_type": "display_data"
    }
   ],
   "source": [
    "errors = (Y_pred_classes - Y_true != 0)\n",
    "\n",
    "Y_pred_classes_errors = Y_pred_classes[errors]\n",
    "Y_pred_errors = Y_pred[errors]\n",
    "Y_true_errors = Y_true[errors]\n",
    "X_val_errors = X_val[errors]\n",
    "\n",
    "def display_errors(errors_index,img_errors,pred_errors, obs_errors):\n",
    "    \"\"\"\n",
    "    \"\"\"\n",
    "    n = 0\n",
    "    nrows = 2\n",
    "    ncols = 3\n",
    "    fig, ax = plt.subplots(nrows,ncols,sharex=True,sharey=True)\n",
    "    for row in range(nrows):\n",
    "        for col in range(ncols):\n",
    "            error = errors_index[n]\n",
    "            ax[row,col].imshow((img_errors[error]).reshape((28,28)))\n",
    "            ax[row,col].set_title(\"Predicted label :{}\\nTrue label :{}\".format(pred_errors[error],obs_errors[error]))\n",
    "            n += 1\n",
    "\n",
    "\n",
    "Y_pred_errors_prob = np.max(Y_pred_errors,axis = 1)\n",
    "\n",
    "\n",
    "true_prob_errors = np.diagonal(np.take(Y_pred_errors, Y_true_errors, axis=1))\n",
    "\n",
    "\n",
    "delta_pred_true_errors = Y_pred_errors_prob - true_prob_errors\n",
    "\n",
    "\n",
    "sorted_dela_errors = np.argsort(delta_pred_true_errors)\n",
    "\n",
    "# Top 6\n",
    "most_important_errors = sorted_dela_errors[-6:]\n",
    "\n",
    "\n",
    "display_errors(most_important_errors, X_val_errors, Y_pred_classes_errors, Y_true_errors)"
   ]
  },
  {
   "cell_type": "code",
   "execution_count": 21,
   "metadata": {
    "execution": {
     "iopub.execute_input": "2020-09-22T08:48:28.389973Z",
     "iopub.status.busy": "2020-09-22T08:48:28.389209Z",
     "iopub.status.idle": "2020-09-22T08:48:53.529575Z",
     "shell.execute_reply": "2020-09-22T08:48:53.528758Z"
    },
    "papermill": {
     "duration": 25.199305,
     "end_time": "2020-09-22T08:48:53.529709",
     "exception": false,
     "start_time": "2020-09-22T08:48:28.330404",
     "status": "completed"
    },
    "tags": []
   },
   "outputs": [],
   "source": [
    "results = model.predict(test)\n",
    "\n",
    "results = np.argmax(results,axis = 1)\n",
    "results = pd.Series(results,name=\"Label\")"
   ]
  },
  {
   "cell_type": "code",
   "execution_count": 22,
   "metadata": {
    "execution": {
     "iopub.execute_input": "2020-09-22T08:48:53.644851Z",
     "iopub.status.busy": "2020-09-22T08:48:53.644031Z",
     "iopub.status.idle": "2020-09-22T08:48:53.943609Z",
     "shell.execute_reply": "2020-09-22T08:48:53.942765Z"
    },
    "papermill": {
     "duration": 0.36081,
     "end_time": "2020-09-22T08:48:53.943748",
     "exception": false,
     "start_time": "2020-09-22T08:48:53.582938",
     "status": "completed"
    },
    "tags": []
   },
   "outputs": [],
   "source": [
    "submission = pd.concat([pd.Series(range(1,28001),name = \"ImageId\"),results],axis = 1)\n",
    "\n",
    "\n",
    "submission.to_csv(\"Abhi_mnist_datagen.csv\",index=False)"
   ]
  }
 ],
 "metadata": {
  "kernelspec": {
   "display_name": "Python 3",
   "language": "python",
   "name": "python3"
  },
  "language_info": {
   "codemirror_mode": {
    "name": "ipython",
    "version": 3
   },
   "file_extension": ".py",
   "mimetype": "text/x-python",
   "name": "python",
   "nbconvert_exporter": "python",
   "pygments_lexer": "ipython3",
   "version": "3.7.6"
  },
  "papermill": {
   "duration": 4741.565923,
   "end_time": "2020-09-22T08:48:55.012440",
   "environment_variables": {},
   "exception": null,
   "input_path": "__notebook__.ipynb",
   "output_path": "__notebook__.ipynb",
   "parameters": {},
   "start_time": "2020-09-22T07:29:53.446517",
   "version": "2.1.0"
  }
 },
 "nbformat": 4,
 "nbformat_minor": 4
}
